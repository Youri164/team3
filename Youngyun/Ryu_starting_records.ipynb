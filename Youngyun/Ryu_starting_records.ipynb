{
 "cells": [
  {
   "cell_type": "code",
   "execution_count": 2,
   "metadata": {},
   "outputs": [],
   "source": [
    "%run team3_module.py"
   ]
  },
  {
   "cell_type": "code",
   "execution_count": 17,
   "metadata": {},
   "outputs": [
    {
     "data": {
      "text/html": [
       "<div>\n",
       "<style scoped>\n",
       "    .dataframe tbody tr th:only-of-type {\n",
       "        vertical-align: middle;\n",
       "    }\n",
       "\n",
       "    .dataframe tbody tr th {\n",
       "        vertical-align: top;\n",
       "    }\n",
       "\n",
       "    .dataframe thead th {\n",
       "        text-align: right;\n",
       "    }\n",
       "</style>\n",
       "<table border=\"1\" class=\"dataframe\">\n",
       "  <thead>\n",
       "    <tr style=\"text-align: right;\">\n",
       "      <th></th>\n",
       "      <th>날짜</th>\n",
       "      <th>요일</th>\n",
       "      <th>홈</th>\n",
       "      <th>방문</th>\n",
       "      <th>구장_x</th>\n",
       "      <th>관중수</th>\n",
       "      <th>좌석수</th>\n",
       "      <th>점유율</th>\n",
       "      <th>상대</th>\n",
       "      <th>구분</th>\n",
       "      <th>...</th>\n",
       "      <th>TBF</th>\n",
       "      <th>IP</th>\n",
       "      <th>H</th>\n",
       "      <th>HR</th>\n",
       "      <th>BB</th>\n",
       "      <th>HBP</th>\n",
       "      <th>SO</th>\n",
       "      <th>R</th>\n",
       "      <th>ER</th>\n",
       "      <th>ERA2</th>\n",
       "    </tr>\n",
       "  </thead>\n",
       "  <tbody>\n",
       "    <tr>\n",
       "      <th>0</th>\n",
       "      <td>2024/03/23</td>\n",
       "      <td>토</td>\n",
       "      <td>LG</td>\n",
       "      <td>한화</td>\n",
       "      <td>잠실</td>\n",
       "      <td>23750.0</td>\n",
       "      <td>23750</td>\n",
       "      <td>1.000000</td>\n",
       "      <td>LG</td>\n",
       "      <td>선발</td>\n",
       "      <td>...</td>\n",
       "      <td>21.0</td>\n",
       "      <td>3 2/3</td>\n",
       "      <td>6.0</td>\n",
       "      <td>0.0</td>\n",
       "      <td>3.0</td>\n",
       "      <td>0.0</td>\n",
       "      <td>0.0</td>\n",
       "      <td>5.0</td>\n",
       "      <td>2.0</td>\n",
       "      <td>4.91</td>\n",
       "    </tr>\n",
       "    <tr>\n",
       "      <th>1</th>\n",
       "      <td>2024/03/24</td>\n",
       "      <td>일</td>\n",
       "      <td>LG</td>\n",
       "      <td>한화</td>\n",
       "      <td>잠실</td>\n",
       "      <td>23750.0</td>\n",
       "      <td>23750</td>\n",
       "      <td>1.000000</td>\n",
       "      <td>NaN</td>\n",
       "      <td>NaN</td>\n",
       "      <td>...</td>\n",
       "      <td>NaN</td>\n",
       "      <td>NaN</td>\n",
       "      <td>NaN</td>\n",
       "      <td>NaN</td>\n",
       "      <td>NaN</td>\n",
       "      <td>NaN</td>\n",
       "      <td>NaN</td>\n",
       "      <td>NaN</td>\n",
       "      <td>NaN</td>\n",
       "      <td>NaN</td>\n",
       "    </tr>\n",
       "    <tr>\n",
       "      <th>2</th>\n",
       "      <td>2024/03/26</td>\n",
       "      <td>화</td>\n",
       "      <td>SSG</td>\n",
       "      <td>한화</td>\n",
       "      <td>문학</td>\n",
       "      <td>10541.0</td>\n",
       "      <td>23000</td>\n",
       "      <td>0.458304</td>\n",
       "      <td>NaN</td>\n",
       "      <td>NaN</td>\n",
       "      <td>...</td>\n",
       "      <td>NaN</td>\n",
       "      <td>NaN</td>\n",
       "      <td>NaN</td>\n",
       "      <td>NaN</td>\n",
       "      <td>NaN</td>\n",
       "      <td>NaN</td>\n",
       "      <td>NaN</td>\n",
       "      <td>NaN</td>\n",
       "      <td>NaN</td>\n",
       "      <td>NaN</td>\n",
       "    </tr>\n",
       "    <tr>\n",
       "      <th>3</th>\n",
       "      <td>2024/03/27</td>\n",
       "      <td>수</td>\n",
       "      <td>SSG</td>\n",
       "      <td>한화</td>\n",
       "      <td>문학</td>\n",
       "      <td>11005.0</td>\n",
       "      <td>23000</td>\n",
       "      <td>0.478478</td>\n",
       "      <td>NaN</td>\n",
       "      <td>NaN</td>\n",
       "      <td>...</td>\n",
       "      <td>NaN</td>\n",
       "      <td>NaN</td>\n",
       "      <td>NaN</td>\n",
       "      <td>NaN</td>\n",
       "      <td>NaN</td>\n",
       "      <td>NaN</td>\n",
       "      <td>NaN</td>\n",
       "      <td>NaN</td>\n",
       "      <td>NaN</td>\n",
       "      <td>NaN</td>\n",
       "    </tr>\n",
       "    <tr>\n",
       "      <th>4</th>\n",
       "      <td>2024/03/28</td>\n",
       "      <td>목</td>\n",
       "      <td>SSG</td>\n",
       "      <td>한화</td>\n",
       "      <td>문학</td>\n",
       "      <td>11755.0</td>\n",
       "      <td>23000</td>\n",
       "      <td>0.511087</td>\n",
       "      <td>NaN</td>\n",
       "      <td>NaN</td>\n",
       "      <td>...</td>\n",
       "      <td>NaN</td>\n",
       "      <td>NaN</td>\n",
       "      <td>NaN</td>\n",
       "      <td>NaN</td>\n",
       "      <td>NaN</td>\n",
       "      <td>NaN</td>\n",
       "      <td>NaN</td>\n",
       "      <td>NaN</td>\n",
       "      <td>NaN</td>\n",
       "      <td>NaN</td>\n",
       "    </tr>\n",
       "  </tbody>\n",
       "</table>\n",
       "<p>5 rows × 22 columns</p>\n",
       "</div>"
      ],
      "text/plain": [
       "           날짜 요일    홈  방문 구장_x      관중수    좌석수       점유율   상대   구분  ...   TBF  \\\n",
       "0  2024/03/23  토   LG  한화   잠실  23750.0  23750  1.000000   LG   선발  ...  21.0   \n",
       "1  2024/03/24  일   LG  한화   잠실  23750.0  23750  1.000000  NaN  NaN  ...   NaN   \n",
       "2  2024/03/26  화  SSG  한화   문학  10541.0  23000  0.458304  NaN  NaN  ...   NaN   \n",
       "3  2024/03/27  수  SSG  한화   문학  11005.0  23000  0.478478  NaN  NaN  ...   NaN   \n",
       "4  2024/03/28  목  SSG  한화   문학  11755.0  23000  0.511087  NaN  NaN  ...   NaN   \n",
       "\n",
       "      IP    H   HR   BB  HBP   SO    R   ER  ERA2  \n",
       "0  3 2/3  6.0  0.0  3.0  0.0  0.0  5.0  2.0  4.91  \n",
       "1    NaN  NaN  NaN  NaN  NaN  NaN  NaN  NaN   NaN  \n",
       "2    NaN  NaN  NaN  NaN  NaN  NaN  NaN  NaN   NaN  \n",
       "3    NaN  NaN  NaN  NaN  NaN  NaN  NaN  NaN   NaN  \n",
       "4    NaN  NaN  NaN  NaN  NaN  NaN  NaN  NaN   NaN  \n",
       "\n",
       "[5 rows x 22 columns]"
      ]
     },
     "execution_count": 17,
     "metadata": {},
     "output_type": "execute_result"
    }
   ],
   "source": [
    "import pandas as pd\n",
    "import numpy as np\n",
    "\n",
    "# 현재 작업 디렉토리 확인\n",
    "script_dir = os.getcwd()  # 현재 작업 디렉토리\n",
    "file_path = os.path.join(script_dir,'..','Youri','류현진출전일점유율.csv')\n",
    "file_path = os.path.abspath(file_path)\n",
    "\n",
    "# CSV 파일을 읽기\n",
    "\n",
    "data = pd.read_csv(file_path)\n",
    "\n",
    "# data.info()\n",
    "data.head()"
   ]
  },
  {
   "cell_type": "code",
   "execution_count": 51,
   "metadata": {},
   "outputs": [
    {
     "data": {
      "text/html": [
       "<div>\n",
       "<style scoped>\n",
       "    .dataframe tbody tr th:only-of-type {\n",
       "        vertical-align: middle;\n",
       "    }\n",
       "\n",
       "    .dataframe tbody tr th {\n",
       "        vertical-align: top;\n",
       "    }\n",
       "\n",
       "    .dataframe thead th {\n",
       "        text-align: right;\n",
       "    }\n",
       "</style>\n",
       "<table border=\"1\" class=\"dataframe\">\n",
       "  <thead>\n",
       "    <tr style=\"text-align: right;\">\n",
       "      <th></th>\n",
       "      <th>날짜</th>\n",
       "      <th>요일</th>\n",
       "      <th>홈</th>\n",
       "      <th>방문</th>\n",
       "      <th>구장</th>\n",
       "      <th>관중수</th>\n",
       "    </tr>\n",
       "  </thead>\n",
       "  <tbody>\n",
       "    <tr>\n",
       "      <th>0</th>\n",
       "      <td>2023/04/01</td>\n",
       "      <td>토</td>\n",
       "      <td>키움</td>\n",
       "      <td>한화</td>\n",
       "      <td>고척</td>\n",
       "      <td>16,000</td>\n",
       "    </tr>\n",
       "    <tr>\n",
       "      <th>1</th>\n",
       "      <td>2023/04/01</td>\n",
       "      <td>토</td>\n",
       "      <td>SSG</td>\n",
       "      <td>KIA</td>\n",
       "      <td>문학</td>\n",
       "      <td>23,000</td>\n",
       "    </tr>\n",
       "    <tr>\n",
       "      <th>2</th>\n",
       "      <td>2023/04/01</td>\n",
       "      <td>토</td>\n",
       "      <td>KT</td>\n",
       "      <td>LG</td>\n",
       "      <td>수원</td>\n",
       "      <td>18,700</td>\n",
       "    </tr>\n",
       "    <tr>\n",
       "      <th>3</th>\n",
       "      <td>2023/04/01</td>\n",
       "      <td>토</td>\n",
       "      <td>두산</td>\n",
       "      <td>롯데</td>\n",
       "      <td>잠실</td>\n",
       "      <td>23,750</td>\n",
       "    </tr>\n",
       "    <tr>\n",
       "      <th>4</th>\n",
       "      <td>2023/04/01</td>\n",
       "      <td>토</td>\n",
       "      <td>삼성</td>\n",
       "      <td>NC</td>\n",
       "      <td>대구</td>\n",
       "      <td>24,000</td>\n",
       "    </tr>\n",
       "  </tbody>\n",
       "</table>\n",
       "</div>"
      ],
      "text/plain": [
       "           날짜 요일    홈   방문  구장     관중수\n",
       "0  2023/04/01  토   키움   한화  고척  16,000\n",
       "1  2023/04/01  토  SSG  KIA  문학  23,000\n",
       "2  2023/04/01  토   KT   LG  수원  18,700\n",
       "3  2023/04/01  토   두산   롯데  잠실  23,750\n",
       "4  2023/04/01  토   삼성   NC  대구  24,000"
      ]
     },
     "execution_count": 51,
     "metadata": {},
     "output_type": "execute_result"
    }
   ],
   "source": [
    "import pandas as pd\n",
    "import numpy as np\n",
    "\n",
    "# 현재 작업 디렉토리 확인\n",
    "script_dir = os.getcwd()  # 현재 작업 디렉토리\n",
    "file_path = os.path.join(script_dir,'..','Youri','daily_crowd_data_2324.csv')\n",
    "file_path = os.path.abspath(file_path)\n",
    "\n",
    "# CSV 파일을 읽기\n",
    "\n",
    "data = pd.read_csv(file_path)\n",
    "\n",
    "# data.info()\n",
    "data.head()"
   ]
  },
  {
   "cell_type": "code",
   "execution_count": 62,
   "metadata": {},
   "outputs": [
    {
     "data": {
      "text/html": [
       "<div>\n",
       "<style scoped>\n",
       "    .dataframe tbody tr th:only-of-type {\n",
       "        vertical-align: middle;\n",
       "    }\n",
       "\n",
       "    .dataframe tbody tr th {\n",
       "        vertical-align: top;\n",
       "    }\n",
       "\n",
       "    .dataframe thead th {\n",
       "        text-align: right;\n",
       "    }\n",
       "</style>\n",
       "<table border=\"1\" class=\"dataframe\">\n",
       "  <thead>\n",
       "    <tr style=\"text-align: right;\">\n",
       "      <th></th>\n",
       "      <th>날짜</th>\n",
       "      <th>요일</th>\n",
       "      <th>홈</th>\n",
       "      <th>방문</th>\n",
       "      <th>구장</th>\n",
       "      <th>관중수</th>\n",
       "    </tr>\n",
       "  </thead>\n",
       "  <tbody>\n",
       "    <tr>\n",
       "      <th>0</th>\n",
       "      <td>2023/04/01</td>\n",
       "      <td>토</td>\n",
       "      <td>키움</td>\n",
       "      <td>한화</td>\n",
       "      <td>고척</td>\n",
       "      <td>16,000</td>\n",
       "    </tr>\n",
       "    <tr>\n",
       "      <th>5</th>\n",
       "      <td>2023/04/02</td>\n",
       "      <td>일</td>\n",
       "      <td>키움</td>\n",
       "      <td>한화</td>\n",
       "      <td>고척</td>\n",
       "      <td>11,562</td>\n",
       "    </tr>\n",
       "    <tr>\n",
       "      <th>10</th>\n",
       "      <td>2023/04/04</td>\n",
       "      <td>화</td>\n",
       "      <td>삼성</td>\n",
       "      <td>한화</td>\n",
       "      <td>대구</td>\n",
       "      <td>5,936</td>\n",
       "    </tr>\n",
       "    <tr>\n",
       "      <th>16</th>\n",
       "      <td>2023/04/06</td>\n",
       "      <td>목</td>\n",
       "      <td>삼성</td>\n",
       "      <td>한화</td>\n",
       "      <td>대구</td>\n",
       "      <td>6,525</td>\n",
       "    </tr>\n",
       "    <tr>\n",
       "      <th>21</th>\n",
       "      <td>2023/04/07</td>\n",
       "      <td>금</td>\n",
       "      <td>한화</td>\n",
       "      <td>SSG</td>\n",
       "      <td>대전</td>\n",
       "      <td>10,415</td>\n",
       "    </tr>\n",
       "    <tr>\n",
       "      <th>...</th>\n",
       "      <td>...</td>\n",
       "      <td>...</td>\n",
       "      <td>...</td>\n",
       "      <td>...</td>\n",
       "      <td>...</td>\n",
       "      <td>...</td>\n",
       "    </tr>\n",
       "    <tr>\n",
       "      <th>550</th>\n",
       "      <td>2023/09/01</td>\n",
       "      <td>금</td>\n",
       "      <td>LG</td>\n",
       "      <td>한화</td>\n",
       "      <td>잠실</td>\n",
       "      <td>20,381</td>\n",
       "    </tr>\n",
       "    <tr>\n",
       "      <th>554</th>\n",
       "      <td>2023/09/02</td>\n",
       "      <td>토</td>\n",
       "      <td>LG</td>\n",
       "      <td>한화</td>\n",
       "      <td>잠실</td>\n",
       "      <td>23,574</td>\n",
       "    </tr>\n",
       "    <tr>\n",
       "      <th>558</th>\n",
       "      <td>2023/09/03</td>\n",
       "      <td>일</td>\n",
       "      <td>LG</td>\n",
       "      <td>한화</td>\n",
       "      <td>잠실</td>\n",
       "      <td>22,858</td>\n",
       "    </tr>\n",
       "    <tr>\n",
       "      <th>565</th>\n",
       "      <td>2023/09/05</td>\n",
       "      <td>화</td>\n",
       "      <td>한화</td>\n",
       "      <td>SSG</td>\n",
       "      <td>대전</td>\n",
       "      <td>5,124</td>\n",
       "    </tr>\n",
       "    <tr>\n",
       "      <th>570</th>\n",
       "      <td>2023/09/06</td>\n",
       "      <td>수</td>\n",
       "      <td>한화</td>\n",
       "      <td>SSG</td>\n",
       "      <td>대전</td>\n",
       "      <td>7,213</td>\n",
       "    </tr>\n",
       "  </tbody>\n",
       "</table>\n",
       "<p>113 rows × 6 columns</p>\n",
       "</div>"
      ],
      "text/plain": [
       "             날짜 요일   홈   방문  구장     관중수\n",
       "0    2023/04/01  토  키움   한화  고척  16,000\n",
       "5    2023/04/02  일  키움   한화  고척  11,562\n",
       "10   2023/04/04  화  삼성   한화  대구   5,936\n",
       "16   2023/04/06  목  삼성   한화  대구   6,525\n",
       "21   2023/04/07  금  한화  SSG  대전  10,415\n",
       "..          ... ..  ..  ...  ..     ...\n",
       "550  2023/09/01  금  LG   한화  잠실  20,381\n",
       "554  2023/09/02  토  LG   한화  잠실  23,574\n",
       "558  2023/09/03  일  LG   한화  잠실  22,858\n",
       "565  2023/09/05  화  한화  SSG  대전   5,124\n",
       "570  2023/09/06  수  한화  SSG  대전   7,213\n",
       "\n",
       "[113 rows x 6 columns]"
      ]
     },
     "execution_count": 62,
     "metadata": {},
     "output_type": "execute_result"
    }
   ],
   "source": [
    "filtered_data = data[\n",
    "    (data['날짜'] >= '2023/04/01') & \n",
    "    (data['날짜'] <= '2023/09/06') & \n",
    "    ((data['홈'] == '한화') | (data['방문'] == '한화'))\n",
    "]\n",
    "\n",
    "filtered_data"
   ]
  },
  {
   "cell_type": "code",
   "execution_count": null,
   "metadata": {},
   "outputs": [],
   "source": [
    "filtered_data"
   ]
  },
  {
   "cell_type": "code",
   "execution_count": 20,
   "metadata": {},
   "outputs": [
    {
     "data": {
      "text/plain": [
       "np.float64(15670.375)"
      ]
     },
     "execution_count": 20,
     "metadata": {},
     "output_type": "execute_result"
    }
   ],
   "source": [
    "관중수_평균 = 선발_data['관중수'].mean()\n",
    "관중수_평균"
   ]
  },
  {
   "cell_type": "code",
   "execution_count": 36,
   "metadata": {},
   "outputs": [
    {
     "data": {
      "text/plain": [
       "np.float64(13938.280898876405)"
      ]
     },
     "execution_count": 36,
     "metadata": {},
     "output_type": "execute_result"
    }
   ],
   "source": [
    "비선발관중수_평균 = 비선발_data['관중수'].mean()\n",
    "비선발관중수_평균"
   ]
  },
  {
   "cell_type": "code",
   "execution_count": 37,
   "metadata": {},
   "outputs": [
    {
     "data": {
      "text/plain": [
       "24"
      ]
     },
     "execution_count": 37,
     "metadata": {},
     "output_type": "execute_result"
    }
   ],
   "source": [
    "len(선발_data)"
   ]
  },
  {
   "cell_type": "code",
   "execution_count": 44,
   "metadata": {},
   "outputs": [
    {
     "data": {
      "text/plain": [
       "89"
      ]
     },
     "execution_count": 44,
     "metadata": {},
     "output_type": "execute_result"
    }
   ],
   "source": [
    "len(비선발_data)"
   ]
  },
  {
   "cell_type": "code",
   "execution_count": 39,
   "metadata": {},
   "outputs": [
    {
     "data": {
      "text/plain": [
       "np.float64(0.035544822765897356)"
      ]
     },
     "execution_count": 39,
     "metadata": {},
     "output_type": "execute_result"
    }
   ],
   "source": [
    "선발_se = np.std(선발_data['점유율']) / np.sqrt(len(선발_data))\n",
    "선발_se"
   ]
  },
  {
   "cell_type": "code",
   "execution_count": 43,
   "metadata": {},
   "outputs": [
    {
     "ename": "NameError",
     "evalue": "name '비선발_se' is not defined",
     "output_type": "error",
     "traceback": [
      "\u001b[1;31m---------------------------------------------------------------------------\u001b[0m",
      "\u001b[1;31mNameError\u001b[0m                                 Traceback (most recent call last)",
      "Cell \u001b[1;32mIn[43], line 1\u001b[0m\n\u001b[1;32m----> 1\u001b[0m (관중수_평균 \u001b[38;5;241m-\u001b[39m 비선발관중수_평균) \u001b[38;5;241m/\u001b[39m np\u001b[38;5;241m.\u001b[39msqrt(선발_se\u001b[38;5;241m*\u001b[39m\u001b[38;5;241m*\u001b[39m\u001b[38;5;241m2\u001b[39m \u001b[38;5;241m+\u001b[39m \u001b[43m비선발_se\u001b[49m\u001b[38;5;241m*\u001b[39m\u001b[38;5;241m*\u001b[39m\u001b[38;5;241m2\u001b[39m)\n",
      "\u001b[1;31mNameError\u001b[0m: name '비선발_se' is not defined"
     ]
    }
   ],
   "source": [
    "(관중수_평균 - 비선발관중수_평균) / np.sqrt(선발_se**2 + 비선발_se**2)"
   ]
  },
  {
   "cell_type": "code",
   "execution_count": 46,
   "metadata": {},
   "outputs": [
    {
     "data": {
      "text/plain": [
       "np.float64(1.0)"
      ]
     },
     "execution_count": 46,
     "metadata": {},
     "output_type": "execute_result"
    }
   ],
   "source": [
    "from scipy import stats\n",
    "\n",
    "stats.norm.cdf(43621.9)"
   ]
  },
  {
   "cell_type": "code",
   "execution_count": 92,
   "metadata": {},
   "outputs": [
    {
     "data": {
      "text/plain": [
       "(np.float64(-0.7445564848270642), np.float64(0.4581133132258286))"
      ]
     },
     "execution_count": 92,
     "metadata": {},
     "output_type": "execute_result"
    }
   ],
   "source": [
    "t, pvalue = stats.ttest_ind(선발_data['점유율'], 비선발_data['점유율'])\n",
    "t, pvalue"
   ]
  },
  {
   "cell_type": "code",
   "execution_count": 50,
   "metadata": {},
   "outputs": [
    {
     "name": "stdout",
     "output_type": "stream",
     "text": [
      "순열 검정 통계량: -0.029116497338725122\n",
      "p-값: 0.4519909601807964\n"
     ]
    }
   ],
   "source": [
    "import numpy as np\n",
    "from scipy.stats import permutation_test\n",
    "\n",
    "# 두 그룹의 데이터를 준비합니다.\n",
    "group1 = 선발_data['점유율']\n",
    "group2 = 비선발_data['점유율']\n",
    "\n",
    "# 순열 검정을 수행합니다.\n",
    "def difference_of_means(group1, group2):\n",
    "    return np.mean(group1) - np.mean(group2)\n",
    "\n",
    "# permutation_test 함수를 사용하여 순열 검정을 수행합니다.\n",
    "result = permutation_test((group1, group2), difference_of_means,\n",
    "                          n_resamples=50000, alternative='two-sided')\n",
    "\n",
    "# 결과 출력\n",
    "print(\"순열 검정 통계량:\", result.statistic)\n",
    "print(\"p-값:\", result.pvalue)\n"
   ]
  },
  {
   "cell_type": "code",
   "execution_count": 97,
   "metadata": {},
   "outputs": [
    {
     "name": "stdout",
     "output_type": "stream",
     "text": [
      "'한화' 류현진 선발등판 경기의 점유율 표준편차: 0.035544822765897356\n",
      "'한화' 그 외 경기의 점유율 표준편차: 0.017697820574532643\n",
      "t-검정 통계량: -0.7200486887271211\n",
      "p-값: 0.47629622789188575\n",
      "귀무가설을 기각할 수 없습니다. 류현진 선발등판 경기와 아닌 경기의 점유율 표준편차 간의 평균에 유의미한 차이가 없습니다.\n"
     ]
    }
   ],
   "source": [
    "import numpy as np\n",
    "\n",
    "선발_se = np.std(선발_data['점유율']) / np.sqrt(len(선발_data))\n",
    "\n",
    "비선발_se = np.std(비선발_data['점유율']) / np.sqrt(len(비선발_data))\n",
    "\n",
    "print(f\"'한화' 류현진 선발등판 경기의 점유율 표준편차: {선발_se}\")\n",
    "print(f\"'한화' 그 외 경기의 점유율 표준편차: {비선발_se}\")\n",
    "\n",
    "# 독립 표본 t-검정 수행\n",
    "t_stat, p_value = stats.ttest_ind(선발_data['점유율'], 비선발_data['점유율'], equal_var=False)\n",
    "\n",
    "print(f\"t-검정 통계량: {t_stat}\")\n",
    "print(f\"p-값: {p_value}\")\n",
    "\n",
    "# 가설 검정 결과 해석\n",
    "alpha = 0.05  # 유의 수준\n",
    "if p_value < alpha:\n",
    "    print(\"귀무가설을 기각합니다. 류현진 선발등판 경기와 아닌 경기의 점유율 표준편차 간의 평균에 유의미한 차이가 있습니다.\")\n",
    "else:\n",
    "    print(\"귀무가설을 기각할 수 없습니다. 류현진 선발등판 경기와 아닌 경기의 점유율 표준편차 간의 평균에 유의미한 차이가 없습니다.\")"
   ]
  },
  {
   "cell_type": "code",
   "execution_count": null,
   "metadata": {},
   "outputs": [],
   "source": [
    "home_column = '한화'\n",
    "home_crowd = data[data['홈'] == home_column]['관중수']\n",
    "\n",
    "# '한화' 팀의 방문 관중 데이터를 필터링\n",
    "visit_column = '한화'\n",
    "visit_crowd = data[data['방문'] == visit_column]['관중수']\n",
    "\n",
    "# 홈과 방문 관중의 표준편차 계산\n",
    "home_std_dev = home_crowd.std()\n",
    "visit_std_dev = visit_crowd.std()\n",
    "\n",
    "print(f\"'한화' 팀 홈 관중의 표준편차: {home_std_dev}\")\n",
    "print(f\"'한화' 팀 방문 관중의 표준편차: {visit_std_dev}\")\n",
    "\n",
    "# 독립 표본 t-검정 수행\n",
    "t_stat, p_value = ttest_ind(home_crowd, visit_crowd, equal_var=False)\n",
    "\n",
    "print(f\"t-검정 통계량: {t_stat}\")\n",
    "print(f\"p-값: {p_value}\")\n",
    "\n",
    "# 가설 검정 결과 해석\n",
    "alpha = 0.05  # 유의 수준\n",
    "if p_value < alpha:\n",
    "    print(\"귀무가설을 기각합니다. '한화' 팀의 홈 관중과 방문 관중 간의 평균에 유의미한 차이가 있습니다.\")\n",
    "else:\n",
    "    print(\"귀무가설을 기각할 수 없습니다. '한화' 팀의 홈 관중과 방문 관중 간의 평균에 유의미한 차이가 없습니다.\")"
   ]
  },
  {
   "cell_type": "code",
   "execution_count": 45,
   "metadata": {},
   "outputs": [
    {
     "data": {
      "text/plain": [
       "점유율\n",
       "1.000000    61\n",
       "0.458304     1\n",
       "0.478478     1\n",
       "0.511087     1\n",
       "0.993600     1\n",
       "0.932926     1\n",
       "0.260354     1\n",
       "0.554525     1\n",
       "0.582193     1\n",
       "0.670481     1\n",
       "0.601444     1\n",
       "0.907500     1\n",
       "0.501230     1\n",
       "0.561297     1\n",
       "0.793500     1\n",
       "0.777917     1\n",
       "0.753667     1\n",
       "0.834000     1\n",
       "0.976130     1\n",
       "0.930667     1\n",
       "0.900583     1\n",
       "0.950417     1\n",
       "0.611016     1\n",
       "0.782139     1\n",
       "0.777895     1\n",
       "0.910737     1\n",
       "0.852758     1\n",
       "0.930976     1\n",
       "0.920000     1\n",
       "0.963000     1\n",
       "0.963667     1\n",
       "0.927333     1\n",
       "0.566167     1\n",
       "0.750750     1\n",
       "0.694167     1\n",
       "0.936312     1\n",
       "0.943500     1\n",
       "0.950313     1\n",
       "0.383992     1\n",
       "0.422000     1\n",
       "0.958417     1\n",
       "0.990167     1\n",
       "0.759893     1\n",
       "0.801497     1\n",
       "0.812674     1\n",
       "0.678625     1\n",
       "0.713083     1\n",
       "0.765292     1\n",
       "0.941833     1\n",
       "0.979000     1\n",
       "0.990333     1\n",
       "0.915522     1\n",
       "0.980217     1\n",
       "Name: count, dtype: int64"
      ]
     },
     "execution_count": 45,
     "metadata": {},
     "output_type": "execute_result"
    }
   ],
   "source": [
    "data['점유율'].value_counts()"
   ]
  },
  {
   "cell_type": "code",
   "execution_count": 18,
   "metadata": {},
   "outputs": [
    {
     "name": "stderr",
     "output_type": "stream",
     "text": [
      "C:\\Users\\medici\\AppData\\Local\\Temp\\ipykernel_10900\\769250080.py:31: UserWarning: Glyph 45216 (\\N{HANGUL SYLLABLE NAL}) missing from font(s) DejaVu Sans.\n",
      "  plt.tight_layout()\n",
      "C:\\Users\\medici\\AppData\\Local\\Temp\\ipykernel_10900\\769250080.py:31: UserWarning: Glyph 51676 (\\N{HANGUL SYLLABLE JJA}) missing from font(s) DejaVu Sans.\n",
      "  plt.tight_layout()\n",
      "C:\\Users\\medici\\AppData\\Local\\Temp\\ipykernel_10900\\769250080.py:31: UserWarning: Glyph 51216 (\\N{HANGUL SYLLABLE JEOM}) missing from font(s) DejaVu Sans.\n",
      "  plt.tight_layout()\n",
      "C:\\Users\\medici\\AppData\\Local\\Temp\\ipykernel_10900\\769250080.py:31: UserWarning: Glyph 50976 (\\N{HANGUL SYLLABLE YU}) missing from font(s) DejaVu Sans.\n",
      "  plt.tight_layout()\n",
      "C:\\Users\\medici\\AppData\\Local\\Temp\\ipykernel_10900\\769250080.py:31: UserWarning: Glyph 50984 (\\N{HANGUL SYLLABLE YUL}) missing from font(s) DejaVu Sans.\n",
      "  plt.tight_layout()\n",
      "C:\\Users\\medici\\AppData\\Local\\Temp\\ipykernel_10900\\769250080.py:31: UserWarning: Glyph 48708 (\\N{HANGUL SYLLABLE BI}) missing from font(s) DejaVu Sans.\n",
      "  plt.tight_layout()\n",
      "C:\\Users\\medici\\AppData\\Local\\Temp\\ipykernel_10900\\769250080.py:31: UserWarning: Glyph 44368 (\\N{HANGUL SYLLABLE GYO}) missing from font(s) DejaVu Sans.\n",
      "  plt.tight_layout()\n",
      "C:\\Users\\medici\\AppData\\Local\\Temp\\ipykernel_10900\\769250080.py:31: UserWarning: Glyph 49440 (\\N{HANGUL SYLLABLE SEON}) missing from font(s) DejaVu Sans.\n",
      "  plt.tight_layout()\n",
      "C:\\Users\\medici\\AppData\\Local\\Temp\\ipykernel_10900\\769250080.py:31: UserWarning: Glyph 48156 (\\N{HANGUL SYLLABLE BAL}) missing from font(s) DejaVu Sans.\n",
      "  plt.tight_layout()\n",
      "c:\\Users\\medici\\miniconda3\\envs\\dav\\Lib\\site-packages\\IPython\\core\\pylabtools.py:170: UserWarning: Glyph 51216 (\\N{HANGUL SYLLABLE JEOM}) missing from font(s) DejaVu Sans.\n",
      "  fig.canvas.print_figure(bytes_io, **kw)\n",
      "c:\\Users\\medici\\miniconda3\\envs\\dav\\Lib\\site-packages\\IPython\\core\\pylabtools.py:170: UserWarning: Glyph 50976 (\\N{HANGUL SYLLABLE YU}) missing from font(s) DejaVu Sans.\n",
      "  fig.canvas.print_figure(bytes_io, **kw)\n",
      "c:\\Users\\medici\\miniconda3\\envs\\dav\\Lib\\site-packages\\IPython\\core\\pylabtools.py:170: UserWarning: Glyph 50984 (\\N{HANGUL SYLLABLE YUL}) missing from font(s) DejaVu Sans.\n",
      "  fig.canvas.print_figure(bytes_io, **kw)\n",
      "c:\\Users\\medici\\miniconda3\\envs\\dav\\Lib\\site-packages\\IPython\\core\\pylabtools.py:170: UserWarning: Glyph 48708 (\\N{HANGUL SYLLABLE BI}) missing from font(s) DejaVu Sans.\n",
      "  fig.canvas.print_figure(bytes_io, **kw)\n",
      "c:\\Users\\medici\\miniconda3\\envs\\dav\\Lib\\site-packages\\IPython\\core\\pylabtools.py:170: UserWarning: Glyph 44368 (\\N{HANGUL SYLLABLE GYO}) missing from font(s) DejaVu Sans.\n",
      "  fig.canvas.print_figure(bytes_io, **kw)\n",
      "c:\\Users\\medici\\miniconda3\\envs\\dav\\Lib\\site-packages\\IPython\\core\\pylabtools.py:170: UserWarning: Glyph 49440 (\\N{HANGUL SYLLABLE SEON}) missing from font(s) DejaVu Sans.\n",
      "  fig.canvas.print_figure(bytes_io, **kw)\n",
      "c:\\Users\\medici\\miniconda3\\envs\\dav\\Lib\\site-packages\\IPython\\core\\pylabtools.py:170: UserWarning: Glyph 48156 (\\N{HANGUL SYLLABLE BAL}) missing from font(s) DejaVu Sans.\n",
      "  fig.canvas.print_figure(bytes_io, **kw)\n",
      "c:\\Users\\medici\\miniconda3\\envs\\dav\\Lib\\site-packages\\IPython\\core\\pylabtools.py:170: UserWarning: Glyph 45216 (\\N{HANGUL SYLLABLE NAL}) missing from font(s) DejaVu Sans.\n",
      "  fig.canvas.print_figure(bytes_io, **kw)\n",
      "c:\\Users\\medici\\miniconda3\\envs\\dav\\Lib\\site-packages\\IPython\\core\\pylabtools.py:170: UserWarning: Glyph 51676 (\\N{HANGUL SYLLABLE JJA}) missing from font(s) DejaVu Sans.\n",
      "  fig.canvas.print_figure(bytes_io, **kw)\n"
     ]
    },
    {
     "data": {
      "image/png": "[encoded data removed]",
      "text/plain": [
       "<Figure size 1200x600 with 1 Axes>"
      ]
     },
     "metadata": {},
     "output_type": "display_data"
    }
   ],
   "source": [
    "import matplotlib.pyplot as plt\n",
    "import pandas as pd\n",
    "\n",
    "# 날짜를 datetime 형식으로 변환\n",
    "data['날짜'] = pd.to_datetime(data['날짜'])\n",
    "\n",
    "# '구분'이 '선발'인 데이터와 아닌 데이터 분리\n",
    "선발_data = data[data['구분'] == '선발']\n",
    "비선발_data = data[data['구분'] != '선발']\n",
    "\n",
    "# 그래프 그리기\n",
    "plt.figure(figsize=(12, 6))\n",
    "\n",
    "# '구분'이 '선발'인 날의 꺾은선 그래프\n",
    "plt.plot(선발_data['날짜'], 선발_data['점유율'], 'o-', color='blue', label='선발')\n",
    "\n",
    "# '구분'이 '선발'이 아닌 날의 꺾은선 그래프\n",
    "plt.plot(비선발_data['날짜'], 비선발_data['점유율'], 's-', color='red', label='비선발')\n",
    "\n",
    "# 그래프 제목 및 레이블 설정\n",
    "plt.title('점유율 비교: 선발 vs 비선발')\n",
    "plt.xlabel('날짜')\n",
    "plt.ylabel('점유율')\n",
    "plt.legend()\n",
    "\n",
    "# x축 날짜 포맷팅 (예: YYYY-MM-DD 형식)\n",
    "plt.xticks(rotation=45)\n",
    "plt.grid(True)\n",
    "\n",
    "# 그래프 보여주기\n",
    "plt.tight_layout()\n",
    "plt.show()\n"
   ]
  },
  {
   "cell_type": "code",
   "execution_count": 16,
   "metadata": {},
   "outputs": [
    {
     "ename": "KeyError",
     "evalue": "'날짜'",
     "output_type": "error",
     "traceback": [
      "\u001b[1;31m---------------------------------------------------------------------------\u001b[0m",
      "\u001b[1;31mKeyError\u001b[0m                                  Traceback (most recent call last)",
      "File \u001b[1;32mc:\\Users\\medici\\miniconda3\\envs\\dav\\Lib\\site-packages\\pandas\\core\\indexes\\base.py:3805\u001b[0m, in \u001b[0;36mIndex.get_loc\u001b[1;34m(self, key)\u001b[0m\n\u001b[0;32m   3804\u001b[0m \u001b[38;5;28;01mtry\u001b[39;00m:\n\u001b[1;32m-> 3805\u001b[0m     \u001b[38;5;28;01mreturn\u001b[39;00m \u001b[38;5;28;43mself\u001b[39;49m\u001b[38;5;241;43m.\u001b[39;49m\u001b[43m_engine\u001b[49m\u001b[38;5;241;43m.\u001b[39;49m\u001b[43mget_loc\u001b[49m\u001b[43m(\u001b[49m\u001b[43mcasted_key\u001b[49m\u001b[43m)\u001b[49m\n\u001b[0;32m   3806\u001b[0m \u001b[38;5;28;01mexcept\u001b[39;00m \u001b[38;5;167;01mKeyError\u001b[39;00m \u001b[38;5;28;01mas\u001b[39;00m err:\n",
      "File \u001b[1;32mindex.pyx:167\u001b[0m, in \u001b[0;36mpandas._libs.index.IndexEngine.get_loc\u001b[1;34m()\u001b[0m\n",
      "File \u001b[1;32mindex.pyx:196\u001b[0m, in \u001b[0;36mpandas._libs.index.IndexEngine.get_loc\u001b[1;34m()\u001b[0m\n",
      "File \u001b[1;32mpandas\\\\_libs\\\\hashtable_class_helper.pxi:7081\u001b[0m, in \u001b[0;36mpandas._libs.hashtable.PyObjectHashTable.get_item\u001b[1;34m()\u001b[0m\n",
      "File \u001b[1;32mpandas\\\\_libs\\\\hashtable_class_helper.pxi:7089\u001b[0m, in \u001b[0;36mpandas._libs.hashtable.PyObjectHashTable.get_item\u001b[1;34m()\u001b[0m\n",
      "\u001b[1;31mKeyError\u001b[0m: '날짜'",
      "\nThe above exception was the direct cause of the following exception:\n",
      "\u001b[1;31mKeyError\u001b[0m                                  Traceback (most recent call last)",
      "Cell \u001b[1;32mIn[16], line 8\u001b[0m\n\u001b[0;32m      2\u001b[0m \u001b[38;5;28;01mimport\u001b[39;00m \u001b[38;5;21;01mpandas\u001b[39;00m \u001b[38;5;28;01mas\u001b[39;00m \u001b[38;5;21;01mpd\u001b[39;00m\n\u001b[0;32m      4\u001b[0m \u001b[38;5;66;03m# 데이터프레임을 여기에 로드합니다.\u001b[39;00m\n\u001b[0;32m      5\u001b[0m \u001b[38;5;66;03m# 예: data = pd.read_csv('your_file.csv')\u001b[39;00m\n\u001b[0;32m      6\u001b[0m \n\u001b[0;32m      7\u001b[0m \u001b[38;5;66;03m# 날짜 열을 datetime 형식으로 변환합니다.\u001b[39;00m\n\u001b[1;32m----> 8\u001b[0m data[\u001b[38;5;124m'\u001b[39m\u001b[38;5;124m날짜\u001b[39m\u001b[38;5;124m'\u001b[39m] \u001b[38;5;241m=\u001b[39m pd\u001b[38;5;241m.\u001b[39mto_datetime(\u001b[43mdata\u001b[49m\u001b[43m[\u001b[49m\u001b[38;5;124;43m'\u001b[39;49m\u001b[38;5;124;43m날짜\u001b[39;49m\u001b[38;5;124;43m'\u001b[39;49m\u001b[43m]\u001b[49m)\n\u001b[0;32m     10\u001b[0m \u001b[38;5;66;03m# '구분'이 '선발'인 데이터와 '선발'이 아닌 데이터 분리\u001b[39;00m\n\u001b[0;32m     11\u001b[0m 선발_data \u001b[38;5;241m=\u001b[39m data[data[\u001b[38;5;124m'\u001b[39m\u001b[38;5;124m구분\u001b[39m\u001b[38;5;124m'\u001b[39m] \u001b[38;5;241m==\u001b[39m \u001b[38;5;124m'\u001b[39m\u001b[38;5;124m선발\u001b[39m\u001b[38;5;124m'\u001b[39m]\n",
      "File \u001b[1;32mc:\\Users\\medici\\miniconda3\\envs\\dav\\Lib\\site-packages\\pandas\\core\\frame.py:4102\u001b[0m, in \u001b[0;36mDataFrame.__getitem__\u001b[1;34m(self, key)\u001b[0m\n\u001b[0;32m   4100\u001b[0m \u001b[38;5;28;01mif\u001b[39;00m \u001b[38;5;28mself\u001b[39m\u001b[38;5;241m.\u001b[39mcolumns\u001b[38;5;241m.\u001b[39mnlevels \u001b[38;5;241m>\u001b[39m \u001b[38;5;241m1\u001b[39m:\n\u001b[0;32m   4101\u001b[0m     \u001b[38;5;28;01mreturn\u001b[39;00m \u001b[38;5;28mself\u001b[39m\u001b[38;5;241m.\u001b[39m_getitem_multilevel(key)\n\u001b[1;32m-> 4102\u001b[0m indexer \u001b[38;5;241m=\u001b[39m \u001b[38;5;28;43mself\u001b[39;49m\u001b[38;5;241;43m.\u001b[39;49m\u001b[43mcolumns\u001b[49m\u001b[38;5;241;43m.\u001b[39;49m\u001b[43mget_loc\u001b[49m\u001b[43m(\u001b[49m\u001b[43mkey\u001b[49m\u001b[43m)\u001b[49m\n\u001b[0;32m   4103\u001b[0m \u001b[38;5;28;01mif\u001b[39;00m is_integer(indexer):\n\u001b[0;32m   4104\u001b[0m     indexer \u001b[38;5;241m=\u001b[39m [indexer]\n",
      "File \u001b[1;32mc:\\Users\\medici\\miniconda3\\envs\\dav\\Lib\\site-packages\\pandas\\core\\indexes\\base.py:3812\u001b[0m, in \u001b[0;36mIndex.get_loc\u001b[1;34m(self, key)\u001b[0m\n\u001b[0;32m   3807\u001b[0m     \u001b[38;5;28;01mif\u001b[39;00m \u001b[38;5;28misinstance\u001b[39m(casted_key, \u001b[38;5;28mslice\u001b[39m) \u001b[38;5;129;01mor\u001b[39;00m (\n\u001b[0;32m   3808\u001b[0m         \u001b[38;5;28misinstance\u001b[39m(casted_key, abc\u001b[38;5;241m.\u001b[39mIterable)\n\u001b[0;32m   3809\u001b[0m         \u001b[38;5;129;01mand\u001b[39;00m \u001b[38;5;28many\u001b[39m(\u001b[38;5;28misinstance\u001b[39m(x, \u001b[38;5;28mslice\u001b[39m) \u001b[38;5;28;01mfor\u001b[39;00m x \u001b[38;5;129;01min\u001b[39;00m casted_key)\n\u001b[0;32m   3810\u001b[0m     ):\n\u001b[0;32m   3811\u001b[0m         \u001b[38;5;28;01mraise\u001b[39;00m InvalidIndexError(key)\n\u001b[1;32m-> 3812\u001b[0m     \u001b[38;5;28;01mraise\u001b[39;00m \u001b[38;5;167;01mKeyError\u001b[39;00m(key) \u001b[38;5;28;01mfrom\u001b[39;00m \u001b[38;5;21;01merr\u001b[39;00m\n\u001b[0;32m   3813\u001b[0m \u001b[38;5;28;01mexcept\u001b[39;00m \u001b[38;5;167;01mTypeError\u001b[39;00m:\n\u001b[0;32m   3814\u001b[0m     \u001b[38;5;66;03m# If we have a listlike key, _check_indexing_error will raise\u001b[39;00m\n\u001b[0;32m   3815\u001b[0m     \u001b[38;5;66;03m#  InvalidIndexError. Otherwise we fall through and re-raise\u001b[39;00m\n\u001b[0;32m   3816\u001b[0m     \u001b[38;5;66;03m#  the TypeError.\u001b[39;00m\n\u001b[0;32m   3817\u001b[0m     \u001b[38;5;28mself\u001b[39m\u001b[38;5;241m.\u001b[39m_check_indexing_error(key)\n",
      "\u001b[1;31mKeyError\u001b[0m: '날짜'"
     ]
    }
   ],
   "source": [
    "import matplotlib.pyplot as plt\n",
    "import pandas as pd\n",
    "\n",
    "# 데이터프레임을 여기에 로드합니다.\n",
    "# 예: data = pd.read_csv('your_file.csv')\n",
    "\n",
    "# 날짜 열을 datetime 형식으로 변환합니다.\n",
    "data['날짜'] = pd.to_datetime(data['날짜'])\n",
    "\n",
    "# '구분'이 '선발'인 데이터와 '선발'이 아닌 데이터 분리\n",
    "선발_data = data[data['구분'] == '선발']\n",
    "비선발_data = data[data['구분'] != '선발']\n",
    "\n",
    "# 월별 평균 계산\n",
    "# '날짜'를 인덱스로 설정 후 월별로 그룹화하여 평균 계산\n",
    "선발_data.set_index('날짜', inplace=True)\n",
    "# 비선발_data.set_index('날짜', inplace=True)\n",
    "\n",
    "avg_선발 = 관중수_평균['관중수'].resample('M').mean()\n",
    "monthly_avg_비선발 = 비선발_data['점유율'].resample('M').mean()\n",
    "\n",
    "# 막대 그래프 그리기\n",
    "plt.figure(figsize=(8, 5))\n",
    "\n",
    "# '구분'이 '선발'인 데이터의 막대 그래프\n",
    "plt.bar(avg_선발.index, avg_선발, width=20, color='blue', label='선발', align='center')\n",
    "\n",
    "# # '구분'이 '선발'이 아닌 데이터의 막대 그래프\n",
    "# plt.bar(monthly_avg_비선발.index, monthly_avg_비선발, width=10, color='red', label='비선발', align='edge')\n",
    "\n",
    "# 그래프 제목 및 레이블 설정\n",
    "plt.title('월별 점유율 평균 비교 (막대그래프)')\n",
    "plt.xlabel('날짜')\n",
    "plt.ylabel('점유율')\n",
    "plt.legend()\n",
    "\n",
    "# x축 날짜 포맷팅\n",
    "plt.xticks(rotation=45)\n",
    "plt.grid(True, axis='y')\n",
    "\n",
    "# 그래프 보여주기\n",
    "plt.show()\n",
    "\n"
   ]
  },
  {
   "cell_type": "code",
   "execution_count": 75,
   "metadata": {},
   "outputs": [
    {
     "data": {
      "image/png": "[encoded data removed]",
      "text/plain": [
       "<Figure size 600x400 with 1 Axes>"
      ]
     },
     "metadata": {},
     "output_type": "display_data"
    }
   ],
   "source": [
    "\n",
    "# 막대 그래프 그리기\n",
    "plt.figure(figsize=(6, 4))\n",
    "\n",
    "# 데이터 준비\n",
    "labels = ['선발 경기']\n",
    "values = [관중수_평균]\n",
    "\n",
    "# 막대 그래프 그리기\n",
    "plt.bar(labels, values, color='skyblue')\n",
    "\n",
    "# 레이블 추가\n",
    "plt.ylabel('관중수')\n",
    "plt.title(\"'구분'이 '선발'인 날의 '관중수' 평균\")\n",
    "\n",
    "# 그래프 출력\n",
    "plt.show()\n"
   ]
  },
  {
   "cell_type": "code",
   "execution_count": 61,
   "metadata": {},
   "outputs": [
    {
     "data": {
      "text/plain": [
       "1     2024-03-24\n",
       "2     2024-03-26\n",
       "3     2024-03-27\n",
       "4     2024-03-28\n",
       "6     2024-03-30\n",
       "         ...    \n",
       "106   2024-08-11\n",
       "108   2024-08-14\n",
       "109   2024-08-15\n",
       "110   2024-08-16\n",
       "111   2024-08-17\n",
       "Name: 날짜, Length: 89, dtype: datetime64[ns]"
      ]
     },
     "execution_count": 61,
     "metadata": {},
     "output_type": "execute_result"
    }
   ],
   "source": [
    "비선발_dates = data[data['구분'] != '선발']['날짜']\n",
    "비선발_dates"
   ]
  },
  {
   "cell_type": "code",
   "execution_count": 48,
   "metadata": {},
   "outputs": [
    {
     "data": {
      "text/plain": [
       "0     2024-03-23\n",
       "5     2024-03-29\n",
       "10    2024-04-05\n",
       "15    2024-04-11\n",
       "20    2024-04-17\n",
       "25    2024-04-24\n",
       "30    2024-04-30\n",
       "35    2024-05-08\n",
       "40    2024-05-14\n",
       "45    2024-05-19\n",
       "50    2024-05-25\n",
       "59    2024-06-06\n",
       "64    2024-06-12\n",
       "69    2024-06-18\n",
       "73    2024-06-23\n",
       "74    2024-06-23\n",
       "80    2024-07-03\n",
       "84    2024-07-11\n",
       "89    2024-07-18\n",
       "94    2024-07-24\n",
       "97    2024-07-31\n",
       "102   2024-08-07\n",
       "107   2024-08-13\n",
       "112   2024-08-18\n",
       "Name: 날짜, dtype: datetime64[ns]"
      ]
     },
     "execution_count": 48,
     "metadata": {},
     "output_type": "execute_result"
    }
   ],
   "source": [
    "선발_dates = data[data['구분'] == '선발']['날짜']\n",
    "선발_dates"
   ]
  },
  {
   "cell_type": "code",
   "execution_count": 66,
   "metadata": {},
   "outputs": [
    {
     "data": {
      "text/plain": [
       "<function matplotlib.pyplot.show(close=None, block=None)>"
      ]
     },
     "execution_count": 66,
     "metadata": {},
     "output_type": "execute_result"
    },
    {
     "data": {
      "image/png": "[encoded data removed]",
      "text/plain": [
       "<Figure size 500x300 with 1 Axes>"
      ]
     },
     "metadata": {},
     "output_type": "display_data"
    }
   ],
   "source": [
    "plt.figure(figsize=(5, 3))\n",
    "plt.hist(비선발_data['점유율'], bins=10)\n",
    "plt.show"
   ]
  },
  {
   "cell_type": "code",
   "execution_count": 68,
   "metadata": {},
   "outputs": [
    {
     "data": {
      "text/plain": [
       "<function matplotlib.pyplot.show(close=None, block=None)>"
      ]
     },
     "execution_count": 68,
     "metadata": {},
     "output_type": "execute_result"
    },
    {
     "data": {
      "image/png": "[encoded data removed]",
      "text/plain": [
       "<Figure size 500x300 with 1 Axes>"
      ]
     },
     "metadata": {},
     "output_type": "display_data"
    }
   ],
   "source": [
    "plt.figure(figsize=(5, 3))\n",
    "plt.hist(선발_data['점유율'], bins=10, color = 'red')\n",
    "plt.show"
   ]
  }
 ],
 "metadata": {
  "kernelspec": {
   "display_name": "dav",
   "language": "python",
   "name": "python3"
  },
  "language_info": {
   "codemirror_mode": {
    "name": "ipython",
    "version": 3
   },
   "file_extension": ".py",
   "mimetype": "text/x-python",
   "name": "python",
   "nbconvert_exporter": "python",
   "pygments_lexer": "ipython3",
   "version": "3.12.4"
  }
 },
 "nbformat": 4,
 "nbformat_minor": 2
}
