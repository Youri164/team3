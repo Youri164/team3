{
 "cells": [
  {
   "cell_type": "markdown",
   "metadata": {},
   "source": [
    "## 한화이글스 팀 기대승률"
   ]
  },
  {
   "cell_type": "code",
   "execution_count": 8,
   "metadata": {},
   "outputs": [
    {
     "name": "stdout",
     "output_type": "stream",
     "text": [
      "0.4975349369184213\n"
     ]
    }
   ],
   "source": [
    "# 변수 정의\n",
    "score = 607 # 팀 전체 득점\n",
    "allowed = 610 # 팀 전체 실점\n",
    "\n",
    "# 기대승률 계산\n",
    "expected_win_percentage = (score**2) / (score**2 + allowed**2)\n",
    "\n",
    "# 결과 출력\n",
    "print(expected_win_percentage)\n"
   ]
  },
  {
   "cell_type": "markdown",
   "metadata": {},
   "source": [
    "## 류현진 개인 기대승률"
   ]
  },
  {
   "cell_type": "code",
   "execution_count": 5,
   "metadata": {},
   "outputs": [
    {
     "name": "stdout",
     "output_type": "stream",
     "text": [
      "0.5788683024536805\n"
     ]
    }
   ],
   "source": [
    "# 변수 정의\n",
    "score = 68 # 류현진 등판시 지원된 득점\n",
    "allowed = 58 # 자책점\n",
    "\n",
    "# 기대승률 계산\n",
    "expected_win_percentage = (score**2) / (score**2 + allowed**2)\n",
    "\n",
    "# 결과 출력\n",
    "print(expected_win_percentage)\n"
   ]
  }
 ],
 "metadata": {
  "kernelspec": {
   "display_name": "dav",
   "language": "python",
   "name": "python3"
  },
  "language_info": {
   "codemirror_mode": {
    "name": "ipython",
    "version": 3
   },
   "file_extension": ".py",
   "mimetype": "text/x-python",
   "name": "python",
   "nbconvert_exporter": "python",
   "pygments_lexer": "ipython3",
   "version": "3.12.4"
  }
 },
 "nbformat": 4,
 "nbformat_minor": 2
}
