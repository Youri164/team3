{
 "cells": [
  {
   "cell_type": "code",
   "execution_count": 3,
   "metadata": {},
   "outputs": [
    {
     "name": "stdout",
     "output_type": "stream",
     "text": [
      "   Year  순위   팀명   경기   승   패  무     승률   게임차  최근10경기  연속        홈       방문\n",
      "0  2001   1   두산  133  65  63  5  0.508   0.0  2승0무8패  3패  33-4-29  32-1-34\n",
      "1  2001   2   삼성  133  81  52  0  0.609 -13.5  4승0무6패  1승  42-0-24  39-0-28\n",
      "2  2001   3   현대  133  72  57  4  0.558  -6.5  3승0무7패  1승  39-1-27  33-3-30\n",
      "3  2001   4   한화  133  61  68  4  0.473   4.5  7승0무3패  2패  27-3-36  34-1-32\n",
      "4  2001   5  KIA  133  60  68  5  0.469   5.0  6승0무4패  1승  28-3-36  32-2-32\n"
     ]
    }
   ],
   "source": [
    "import pandas as pd\n",
    "\n",
    "# 상대 경로로 CSV 파일 불러오기\n",
    "file_path = \"팀랭크데이터(2001-2024).csv\"\n",
    "df = pd.read_csv(file_path)\n",
    "\n",
    "# 데이터 프레임 확인\n",
    "print(df.head())"
   ]
  },
  {
   "cell_type": "code",
   "execution_count": null,
   "metadata": {},
   "outputs": [],
   "source": []
  }
 ],
 "metadata": {
  "kernelspec": {
   "display_name": "baseball_project",
   "language": "python",
   "name": "python3"
  },
  "language_info": {
   "codemirror_mode": {
    "name": "ipython",
    "version": 3
   },
   "file_extension": ".py",
   "mimetype": "text/x-python",
   "name": "python",
   "nbconvert_exporter": "python",
   "pygments_lexer": "ipython3",
   "version": "3.12.5"
  }
 },
 "nbformat": 4,
 "nbformat_minor": 2
}
