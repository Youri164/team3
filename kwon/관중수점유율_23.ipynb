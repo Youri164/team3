{
 "cells": [
  {
   "cell_type": "code",
   "execution_count": 63,
   "metadata": {},
   "outputs": [],
   "source": [
    "import os\n",
    "import pandas as pd\n",
    "import seaborn as sns\n",
    "import matplotlib.pyplot as plt\n",
    "import matplotlib.font_manager as fm\n",
    "import matplotlib.ticker as ticker"
   ]
  },
  {
   "cell_type": "code",
   "execution_count": 64,
   "metadata": {},
   "outputs": [],
   "source": [
    "#글씨 지정\n",
    "plt.rcParams['font.family'] = 'Malgun Gothic'"
   ]
  },
  {
   "cell_type": "code",
   "execution_count": 126,
   "metadata": {},
   "outputs": [
    {
     "name": "stdout",
     "output_type": "stream",
     "text": [
      "<class 'pandas.core.frame.DataFrame'>\n",
      "RangeIndex: 720 entries, 0 to 719\n",
      "Data columns (total 6 columns):\n",
      " #   Column  Non-Null Count  Dtype \n",
      "---  ------  --------------  ----- \n",
      " 0   날짜      720 non-null    object\n",
      " 1   요일      720 non-null    object\n",
      " 2   홈       720 non-null    object\n",
      " 3   방문      720 non-null    object\n",
      " 4   구장      720 non-null    object\n",
      " 5   관중수     720 non-null    object\n",
      "dtypes: object(6)\n",
      "memory usage: 33.9+ KB\n"
     ]
    }
   ],
   "source": [
    "# 23년 일별 관중수 데이터\n",
    "script_dir = os.getcwd()  # 현재 작업 디렉토리 경로를 가져옴\n",
    "\n",
    "# 상대 경로를 설정 \n",
    "file_path = os.path.join(script_dir, '../Youri/daily_crowd_data_2324.csv')\n",
    "\n",
    "# 상대 경로를 사용하여 CSV 파일을 읽기\n",
    "dc23 = pd.read_csv(file_path)\n",
    "\n",
    "# dc23.head()\n",
    "dc23.info()\n"
   ]
  },
  {
   "cell_type": "code",
   "execution_count": 127,
   "metadata": {},
   "outputs": [],
   "source": [
    "# 쉼표를 제거한 후 타입 변환\n",
    "# = 왼편의 dc23['관중수'] 는 dc23의 원본을 유지하면서 데이터 타입만 바꾸는방법\n",
    "dc23['관중수'] = dc23['관중수'].astype(str)\n",
    "dc23['관중수'] = dc23['관중수'].str.replace(',', '') # 문자열에서 ',' 제거\n",
    "dc23['관중수'] = dc23['관중수'].fillna('0')\n",
    "dc23['관중수'] = dc23['관중수'].astype(int)"
   ]
  },
  {
   "cell_type": "code",
   "execution_count": 141,
   "metadata": {},
   "outputs": [
    {
     "data": {
      "text/html": [
       "<div>\n",
       "<style scoped>\n",
       "    .dataframe tbody tr th:only-of-type {\n",
       "        vertical-align: middle;\n",
       "    }\n",
       "\n",
       "    .dataframe tbody tr th {\n",
       "        vertical-align: top;\n",
       "    }\n",
       "\n",
       "    .dataframe thead th {\n",
       "        text-align: right;\n",
       "    }\n",
       "</style>\n",
       "<table border=\"1\" class=\"dataframe\">\n",
       "  <thead>\n",
       "    <tr style=\"text-align: right;\">\n",
       "      <th></th>\n",
       "      <th>날짜</th>\n",
       "      <th>요일</th>\n",
       "      <th>홈</th>\n",
       "      <th>방문</th>\n",
       "      <th>구장</th>\n",
       "      <th>관중수</th>\n",
       "    </tr>\n",
       "  </thead>\n",
       "  <tbody>\n",
       "    <tr>\n",
       "      <th>0</th>\n",
       "      <td>2023/04/01</td>\n",
       "      <td>토</td>\n",
       "      <td>키움</td>\n",
       "      <td>한화</td>\n",
       "      <td>고척</td>\n",
       "      <td>16000</td>\n",
       "    </tr>\n",
       "    <tr>\n",
       "      <th>1</th>\n",
       "      <td>2023/04/01</td>\n",
       "      <td>토</td>\n",
       "      <td>SSG</td>\n",
       "      <td>KIA</td>\n",
       "      <td>문학</td>\n",
       "      <td>23000</td>\n",
       "    </tr>\n",
       "    <tr>\n",
       "      <th>2</th>\n",
       "      <td>2023/04/01</td>\n",
       "      <td>토</td>\n",
       "      <td>KT</td>\n",
       "      <td>LG</td>\n",
       "      <td>수원</td>\n",
       "      <td>18700</td>\n",
       "    </tr>\n",
       "    <tr>\n",
       "      <th>3</th>\n",
       "      <td>2023/04/01</td>\n",
       "      <td>토</td>\n",
       "      <td>두산</td>\n",
       "      <td>롯데</td>\n",
       "      <td>잠실</td>\n",
       "      <td>23750</td>\n",
       "    </tr>\n",
       "    <tr>\n",
       "      <th>4</th>\n",
       "      <td>2023/04/01</td>\n",
       "      <td>토</td>\n",
       "      <td>삼성</td>\n",
       "      <td>NC</td>\n",
       "      <td>대구</td>\n",
       "      <td>24000</td>\n",
       "    </tr>\n",
       "  </tbody>\n",
       "</table>\n",
       "</div>"
      ],
      "text/plain": [
       "           날짜 요일    홈   방문  구장    관중수\n",
       "0  2023/04/01  토   키움   한화  고척  16000\n",
       "1  2023/04/01  토  SSG  KIA  문학  23000\n",
       "2  2023/04/01  토   KT   LG  수원  18700\n",
       "3  2023/04/01  토   두산   롯데  잠실  23750\n",
       "4  2023/04/01  토   삼성   NC  대구  24000"
      ]
     },
     "execution_count": 141,
     "metadata": {},
     "output_type": "execute_result"
    }
   ],
   "source": [
    "# dc23.info()\n",
    "dc23.head()"
   ]
  },
  {
   "cell_type": "code",
   "execution_count": 154,
   "metadata": {},
   "outputs": [
    {
     "data": {
      "text/html": [
       "<div>\n",
       "<style scoped>\n",
       "    .dataframe tbody tr th:only-of-type {\n",
       "        vertical-align: middle;\n",
       "    }\n",
       "\n",
       "    .dataframe tbody tr th {\n",
       "        vertical-align: top;\n",
       "    }\n",
       "\n",
       "    .dataframe thead th {\n",
       "        text-align: right;\n",
       "    }\n",
       "</style>\n",
       "<table border=\"1\" class=\"dataframe\">\n",
       "  <thead>\n",
       "    <tr style=\"text-align: right;\">\n",
       "      <th></th>\n",
       "      <th>지역</th>\n",
       "      <th>구장</th>\n",
       "      <th>수용인원(KBO)</th>\n",
       "      <th>좌석수</th>\n",
       "    </tr>\n",
       "  </thead>\n",
       "  <tbody>\n",
       "    <tr>\n",
       "      <th>0</th>\n",
       "      <td>잠실</td>\n",
       "      <td>서울종합운동장 야구장</td>\n",
       "      <td>25,553</td>\n",
       "      <td>23750</td>\n",
       "    </tr>\n",
       "    <tr>\n",
       "      <th>1</th>\n",
       "      <td>고척</td>\n",
       "      <td>고척스카이돔</td>\n",
       "      <td>17,000</td>\n",
       "      <td>16000</td>\n",
       "    </tr>\n",
       "    <tr>\n",
       "      <th>2</th>\n",
       "      <td>문학</td>\n",
       "      <td>인천 SSG 랜더스필드</td>\n",
       "      <td>23,000</td>\n",
       "      <td>23000</td>\n",
       "    </tr>\n",
       "    <tr>\n",
       "      <th>3</th>\n",
       "      <td>수원</td>\n",
       "      <td>케이티위즈파크</td>\n",
       "      <td>20,000</td>\n",
       "      <td>18700</td>\n",
       "    </tr>\n",
       "    <tr>\n",
       "      <th>4</th>\n",
       "      <td>청주</td>\n",
       "      <td>청주야구장</td>\n",
       "      <td>9,586</td>\n",
       "      <td>9000</td>\n",
       "    </tr>\n",
       "  </tbody>\n",
       "</table>\n",
       "</div>"
      ],
      "text/plain": [
       "   지역            구장 수용인원(KBO)    좌석수\n",
       "0  잠실   서울종합운동장 야구장    25,553  23750\n",
       "1  고척        고척스카이돔    17,000  16000\n",
       "2  문학  인천 SSG 랜더스필드    23,000  23000\n",
       "3  수원       케이티위즈파크    20,000  18700\n",
       "4  청주         청주야구장     9,586   9000"
      ]
     },
     "execution_count": 154,
     "metadata": {},
     "output_type": "execute_result"
    }
   ],
   "source": [
    "# 23년 구장데이터\n",
    "\n",
    "script_dir = os.getcwd()  # 현재 작업 디렉토리\n",
    "file_path = os.path.join(script_dir,'..','Youri','ballpark_seat_cap.csv')\n",
    "file_path = os.path.abspath(file_path)\n",
    "\n",
    "# CSV 파일을 읽기\n",
    "seat24 = pd.read_csv(file_path)\n",
    "\n",
    "# data.info()\n",
    "seat24.head()"
   ]
  },
  {
   "cell_type": "code",
   "execution_count": 166,
   "metadata": {},
   "outputs": [
    {
     "data": {
      "text/html": [
       "<div>\n",
       "<style scoped>\n",
       "    .dataframe tbody tr th:only-of-type {\n",
       "        vertical-align: middle;\n",
       "    }\n",
       "\n",
       "    .dataframe tbody tr th {\n",
       "        vertical-align: top;\n",
       "    }\n",
       "\n",
       "    .dataframe thead th {\n",
       "        text-align: right;\n",
       "    }\n",
       "</style>\n",
       "<table border=\"1\" class=\"dataframe\">\n",
       "  <thead>\n",
       "    <tr style=\"text-align: right;\">\n",
       "      <th></th>\n",
       "      <th>날짜</th>\n",
       "      <th>요일</th>\n",
       "      <th>홈</th>\n",
       "      <th>방문</th>\n",
       "      <th>구장_x</th>\n",
       "      <th>관중수</th>\n",
       "      <th>지역</th>\n",
       "      <th>구장_y</th>\n",
       "      <th>수용인원(KBO)</th>\n",
       "      <th>좌석수</th>\n",
       "    </tr>\n",
       "  </thead>\n",
       "  <tbody>\n",
       "    <tr>\n",
       "      <th>0</th>\n",
       "      <td>2023/04/01</td>\n",
       "      <td>토</td>\n",
       "      <td>키움</td>\n",
       "      <td>한화</td>\n",
       "      <td>고척</td>\n",
       "      <td>16000</td>\n",
       "      <td>고척</td>\n",
       "      <td>고척스카이돔</td>\n",
       "      <td>17,000</td>\n",
       "      <td>16000</td>\n",
       "    </tr>\n",
       "    <tr>\n",
       "      <th>1</th>\n",
       "      <td>2023/04/01</td>\n",
       "      <td>토</td>\n",
       "      <td>SSG</td>\n",
       "      <td>KIA</td>\n",
       "      <td>문학</td>\n",
       "      <td>23000</td>\n",
       "      <td>문학</td>\n",
       "      <td>인천 SSG 랜더스필드</td>\n",
       "      <td>23,000</td>\n",
       "      <td>23000</td>\n",
       "    </tr>\n",
       "    <tr>\n",
       "      <th>2</th>\n",
       "      <td>2023/04/01</td>\n",
       "      <td>토</td>\n",
       "      <td>KT</td>\n",
       "      <td>LG</td>\n",
       "      <td>수원</td>\n",
       "      <td>18700</td>\n",
       "      <td>수원</td>\n",
       "      <td>케이티위즈파크</td>\n",
       "      <td>20,000</td>\n",
       "      <td>18700</td>\n",
       "    </tr>\n",
       "    <tr>\n",
       "      <th>3</th>\n",
       "      <td>2023/04/01</td>\n",
       "      <td>토</td>\n",
       "      <td>두산</td>\n",
       "      <td>롯데</td>\n",
       "      <td>잠실</td>\n",
       "      <td>23750</td>\n",
       "      <td>잠실</td>\n",
       "      <td>서울종합운동장 야구장</td>\n",
       "      <td>25,553</td>\n",
       "      <td>23750</td>\n",
       "    </tr>\n",
       "    <tr>\n",
       "      <th>4</th>\n",
       "      <td>2023/04/01</td>\n",
       "      <td>토</td>\n",
       "      <td>삼성</td>\n",
       "      <td>NC</td>\n",
       "      <td>대구</td>\n",
       "      <td>24000</td>\n",
       "      <td>대구</td>\n",
       "      <td>대구 삼성 라이온즈파크</td>\n",
       "      <td>24,000</td>\n",
       "      <td>24000</td>\n",
       "    </tr>\n",
       "  </tbody>\n",
       "</table>\n",
       "</div>"
      ],
      "text/plain": [
       "           날짜 요일    홈   방문 구장_x    관중수  지역          구장_y 수용인원(KBO)    좌석수\n",
       "0  2023/04/01  토   키움   한화   고척  16000  고척        고척스카이돔    17,000  16000\n",
       "1  2023/04/01  토  SSG  KIA   문학  23000  문학  인천 SSG 랜더스필드    23,000  23000\n",
       "2  2023/04/01  토   KT   LG   수원  18700  수원       케이티위즈파크    20,000  18700\n",
       "3  2023/04/01  토   두산   롯데   잠실  23750  잠실   서울종합운동장 야구장    25,553  23750\n",
       "4  2023/04/01  토   삼성   NC   대구  24000  대구  대구 삼성 라이온즈파크    24,000  24000"
      ]
     },
     "execution_count": 166,
     "metadata": {},
     "output_type": "execute_result"
    }
   ],
   "source": [
    "# 공통 열을 기준으로 데이터 병합하기\n",
    "merged23 = pd.merge(dc23, seat24, left_on='구장', right_on='지역', how='inner')\n",
    "\n",
    "# 병합된 데이터프레임을 확인\n",
    "# print(merged23)\n",
    "\n",
    "# 필요하면 병합된 데이터를 새로운 CSV 파일로 저장\n",
    "# merged23.to_csv('daily_crowd_23.csv', index=False)\n",
    "# merged23.info()\n",
    "merged23.head()"
   ]
  },
  {
   "cell_type": "code",
   "execution_count": 167,
   "metadata": {},
   "outputs": [
    {
     "data": {
      "text/html": [
       "<div>\n",
       "<style scoped>\n",
       "    .dataframe tbody tr th:only-of-type {\n",
       "        vertical-align: middle;\n",
       "    }\n",
       "\n",
       "    .dataframe tbody tr th {\n",
       "        vertical-align: top;\n",
       "    }\n",
       "\n",
       "    .dataframe thead th {\n",
       "        text-align: right;\n",
       "    }\n",
       "</style>\n",
       "<table border=\"1\" class=\"dataframe\">\n",
       "  <thead>\n",
       "    <tr style=\"text-align: right;\">\n",
       "      <th></th>\n",
       "      <th>날짜</th>\n",
       "      <th>요일</th>\n",
       "      <th>홈</th>\n",
       "      <th>방문</th>\n",
       "      <th>구장_x</th>\n",
       "      <th>관중수</th>\n",
       "      <th>지역</th>\n",
       "      <th>구장_y</th>\n",
       "      <th>수용인원(KBO)</th>\n",
       "      <th>좌석수</th>\n",
       "      <th>점유율</th>\n",
       "    </tr>\n",
       "  </thead>\n",
       "  <tbody>\n",
       "    <tr>\n",
       "      <th>0</th>\n",
       "      <td>2023/04/01</td>\n",
       "      <td>토</td>\n",
       "      <td>키움</td>\n",
       "      <td>한화</td>\n",
       "      <td>고척</td>\n",
       "      <td>16000</td>\n",
       "      <td>고척</td>\n",
       "      <td>고척스카이돔</td>\n",
       "      <td>17,000</td>\n",
       "      <td>16000</td>\n",
       "      <td>100.0</td>\n",
       "    </tr>\n",
       "    <tr>\n",
       "      <th>1</th>\n",
       "      <td>2023/04/01</td>\n",
       "      <td>토</td>\n",
       "      <td>SSG</td>\n",
       "      <td>KIA</td>\n",
       "      <td>문학</td>\n",
       "      <td>23000</td>\n",
       "      <td>문학</td>\n",
       "      <td>인천 SSG 랜더스필드</td>\n",
       "      <td>23,000</td>\n",
       "      <td>23000</td>\n",
       "      <td>100.0</td>\n",
       "    </tr>\n",
       "    <tr>\n",
       "      <th>2</th>\n",
       "      <td>2023/04/01</td>\n",
       "      <td>토</td>\n",
       "      <td>KT</td>\n",
       "      <td>LG</td>\n",
       "      <td>수원</td>\n",
       "      <td>18700</td>\n",
       "      <td>수원</td>\n",
       "      <td>케이티위즈파크</td>\n",
       "      <td>20,000</td>\n",
       "      <td>18700</td>\n",
       "      <td>100.0</td>\n",
       "    </tr>\n",
       "    <tr>\n",
       "      <th>3</th>\n",
       "      <td>2023/04/01</td>\n",
       "      <td>토</td>\n",
       "      <td>두산</td>\n",
       "      <td>롯데</td>\n",
       "      <td>잠실</td>\n",
       "      <td>23750</td>\n",
       "      <td>잠실</td>\n",
       "      <td>서울종합운동장 야구장</td>\n",
       "      <td>25,553</td>\n",
       "      <td>23750</td>\n",
       "      <td>100.0</td>\n",
       "    </tr>\n",
       "    <tr>\n",
       "      <th>4</th>\n",
       "      <td>2023/04/01</td>\n",
       "      <td>토</td>\n",
       "      <td>삼성</td>\n",
       "      <td>NC</td>\n",
       "      <td>대구</td>\n",
       "      <td>24000</td>\n",
       "      <td>대구</td>\n",
       "      <td>대구 삼성 라이온즈파크</td>\n",
       "      <td>24,000</td>\n",
       "      <td>24000</td>\n",
       "      <td>100.0</td>\n",
       "    </tr>\n",
       "  </tbody>\n",
       "</table>\n",
       "</div>"
      ],
      "text/plain": [
       "           날짜 요일    홈   방문 구장_x    관중수  지역          구장_y 수용인원(KBO)    좌석수  \\\n",
       "0  2023/04/01  토   키움   한화   고척  16000  고척        고척스카이돔    17,000  16000   \n",
       "1  2023/04/01  토  SSG  KIA   문학  23000  문학  인천 SSG 랜더스필드    23,000  23000   \n",
       "2  2023/04/01  토   KT   LG   수원  18700  수원       케이티위즈파크    20,000  18700   \n",
       "3  2023/04/01  토   두산   롯데   잠실  23750  잠실   서울종합운동장 야구장    25,553  23750   \n",
       "4  2023/04/01  토   삼성   NC   대구  24000  대구  대구 삼성 라이온즈파크    24,000  24000   \n",
       "\n",
       "     점유율  \n",
       "0  100.0  \n",
       "1  100.0  \n",
       "2  100.0  \n",
       "3  100.0  \n",
       "4  100.0  "
      ]
     },
     "execution_count": 167,
     "metadata": {},
     "output_type": "execute_result"
    }
   ],
   "source": [
    "# 관중수 점유율\n",
    "\n",
    "merged23['점유율']=(merged23['관중수']/merged23['좌석수'])*100\n",
    "\n",
    "merged23.to_csv('dc23_ratio.csv', index=False)\n",
    "merged23.head()"
   ]
  },
  {
   "cell_type": "code",
   "execution_count": null,
   "metadata": {},
   "outputs": [],
   "source": []
  },
  {
   "cell_type": "code",
   "execution_count": 168,
   "metadata": {},
   "outputs": [],
   "source": [
    "# filtered_df = dc24[dc24['점유율'] == 100]\n",
    "# count_100 = len(filtered_df)\n",
    "\n",
    "# # 결과 출력\n",
    "# print(f\"점유율이 100인 행의 갯수: {count_100}\")"
   ]
  },
  {
   "cell_type": "code",
   "execution_count": 169,
   "metadata": {},
   "outputs": [],
   "source": [
    "# apply 메서드 확인\n",
    "# dc['관중수'] = dc['관중수'].apply(lambda x: str(x).replace(',', ''))"
   ]
  },
  {
   "cell_type": "code",
   "execution_count": 170,
   "metadata": {},
   "outputs": [],
   "source": [
    "# # \"한화\"가 포함된 행들만 \n",
    "# team='한화'\n",
    "# hdc23 = merged23[(merged23['홈'] == team) | (merged23['방문'] == team)]\n",
    "\n",
    "# # 결과 출력\n",
    "# hdc23.head()"
   ]
  },
  {
   "cell_type": "code",
   "execution_count": 176,
   "metadata": {},
   "outputs": [
    {
     "name": "stdout",
     "output_type": "stream",
     "text": [
      "연간점유율 평균: 55.974593786626514\n"
     ]
    }
   ],
   "source": [
    "# 연간 관중 점유율 평균\n",
    "avg_occupancy = merged23['점유율'].mean()\n",
    "\n",
    "# 결과 출력\n",
    "print(f\"연간 관중 점유율 평균: {avg_occupancy}\")"
   ]
  },
  {
   "cell_type": "code",
   "execution_count": 181,
   "metadata": {},
   "outputs": [
    {
     "name": "stdout",
     "output_type": "stream",
     "text": [
      "  구장_x        점유율\n",
      "0   고척  51.375792\n",
      "1   광주  49.263140\n",
      "2   대구  51.860385\n",
      "3   대전  64.701484\n",
      "4   문학  63.621858\n",
      "5   사직  55.595670\n",
      "6   수원  51.084170\n",
      "7   울산  60.853581\n",
      "8   잠실  63.514591\n",
      "9   창원  43.897042\n"
     ]
    }
   ],
   "source": [
    "avg_occupancy_23 = merged23.groupby('구장_x')['점유율'].mean().reset_index()\n",
    "\n",
    "print(avg_occupancy_23)"
   ]
  },
  {
   "cell_type": "code",
   "execution_count": 182,
   "metadata": {},
   "outputs": [
    {
     "data": {
      "image/png": "[encoded data removed]",
      "text/plain": [
       "<Figure size 1000x600 with 1 Axes>"
      ]
     },
     "metadata": {},
     "output_type": "display_data"
    }
   ],
   "source": [
    "plt.figure(figsize=(10, 6))  # 그래프의 크기 설정\n",
    "plt.bar(average_occupancy['구장_x'], average_occupancy['점유율'], color='skyblue', edgecolor='black')\n",
    "plt.xlabel('구장_x')  # X축 레이블\n",
    "plt.ylabel('점유율')  # Y축 레이블\n",
    "plt.title('구장별 점유율 평균')  # 그래프 제목\n",
    "plt.xticks(rotation=45)  # X축 레이블 회전 (긴 레이블을 보기 좋게 함)\n",
    "plt.grid(axis='y', linestyle='--', alpha=0.7)  # Y축에 그리드 추가\n",
    "\n",
    "# 바 차트 출력\n",
    "plt.show()"
   ]
  },
  {
   "cell_type": "code",
   "execution_count": null,
   "metadata": {},
   "outputs": [],
   "source": []
  },
  {
   "cell_type": "code",
   "execution_count": 198,
   "metadata": {},
   "outputs": [
    {
     "name": "stdout",
     "output_type": "stream",
     "text": [
      "구장 관중 점유율의 표준편차: 7.20153619479682\n"
     ]
    }
   ],
   "source": [
    "#  구장 점유율의 표준편차\n",
    "std_dev = avg_occupancy_23['점유율'].std()\n",
    "\n",
    "# 결과 출력\n",
    "print(f\"구장 관중 점유율의 표준편차: {std_dev}\")"
   ]
  },
  {
   "cell_type": "code",
   "execution_count": 199,
   "metadata": {},
   "outputs": [
    {
     "name": "stdout",
     "output_type": "stream",
     "text": [
      "구장이 잠실일 때 점유율의 표준편차: nan\n"
     ]
    }
   ],
   "source": [
    "# # 구장의 표준편차를 구하기\n",
    "\n",
    "# stadium='잠실'\n",
    "# filtered_df = avg_occupancy_23[avg_occupancy_23['구장_x'] == stadium]\n",
    "\n",
    "# # '점유율' 열의 표준편차 계산\n",
    "# std_dev = filtered_df['점유율'].std()\n",
    "\n",
    "# # 결과 출력\n",
    "# print(f\"구장이 {stadium}일 때 점유율의 표준편차: {std_dev}\")"
   ]
  }
 ],
 "metadata": {
  "kernelspec": {
   "display_name": "baseball_project",
   "language": "python",
   "name": "python3"
  },
  "language_info": {
   "codemirror_mode": {
    "name": "ipython",
    "version": 3
   },
   "file_extension": ".py",
   "mimetype": "text/x-python",
   "name": "python",
   "nbconvert_exporter": "python",
   "pygments_lexer": "ipython3",
   "version": "3.12.4"
  }
 },
 "nbformat": 4,
 "nbformat_minor": 2
}
